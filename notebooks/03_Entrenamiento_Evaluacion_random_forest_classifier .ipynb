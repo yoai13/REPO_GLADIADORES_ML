{
 "cells": [
  {
   "cell_type": "code",
   "execution_count": 1,
   "id": "6a1eab30",
   "metadata": {},
   "outputs": [],
   "source": [
    "import pandas as pd\n",
    "import pickle\n",
    "import matplotlib.pyplot as plt\n",
    "import seaborn as sns\n",
    "\n",
    "from sklearn.ensemble import RandomForestClassifier\n",
    "\n",
    "from sklearn.model_selection import train_test_split, KFold, cross_val_score\n",
    "from sklearn.preprocessing import  StandardScaler\n",
    "from sklearn.pipeline import Pipeline\n",
    "from sklearn.metrics import mean_absolute_error, mean_squared_error, mean_absolute_percentage_error, r2_score, accuracy_score, precision_score, recall_score, f1_score, roc_auc_score, confusion_matrix, classification_report\n",
    "import pickle"
   ]
  },
  {
   "cell_type": "code",
   "execution_count": 2,
   "id": "fb6c6a75",
   "metadata": {},
   "outputs": [
    {
     "data": {
      "text/html": [
       "<div>\n",
       "<style scoped>\n",
       "    .dataframe tbody tr th:only-of-type {\n",
       "        vertical-align: middle;\n",
       "    }\n",
       "\n",
       "    .dataframe tbody tr th {\n",
       "        vertical-align: top;\n",
       "    }\n",
       "\n",
       "    .dataframe thead th {\n",
       "        text-align: right;\n",
       "    }\n",
       "</style>\n",
       "<table border=\"1\" class=\"dataframe\">\n",
       "  <thead>\n",
       "    <tr style=\"text-align: right;\">\n",
       "      <th></th>\n",
       "      <th>Wins</th>\n",
       "      <th>Public Favor</th>\n",
       "      <th>Survived</th>\n",
       "      <th>Allegiance Network_Strong</th>\n",
       "    </tr>\n",
       "  </thead>\n",
       "  <tbody>\n",
       "    <tr>\n",
       "      <th>0</th>\n",
       "      <td>11</td>\n",
       "      <td>0.841842</td>\n",
       "      <td>False</td>\n",
       "      <td>1</td>\n",
       "    </tr>\n",
       "    <tr>\n",
       "      <th>1</th>\n",
       "      <td>7</td>\n",
       "      <td>0.651044</td>\n",
       "      <td>True</td>\n",
       "      <td>0</td>\n",
       "    </tr>\n",
       "    <tr>\n",
       "      <th>2</th>\n",
       "      <td>6</td>\n",
       "      <td>0.593816</td>\n",
       "      <td>True</td>\n",
       "      <td>1</td>\n",
       "    </tr>\n",
       "    <tr>\n",
       "      <th>3</th>\n",
       "      <td>6</td>\n",
       "      <td>0.540815</td>\n",
       "      <td>False</td>\n",
       "      <td>1</td>\n",
       "    </tr>\n",
       "    <tr>\n",
       "      <th>4</th>\n",
       "      <td>12</td>\n",
       "      <td>0.761651</td>\n",
       "      <td>False</td>\n",
       "      <td>1</td>\n",
       "    </tr>\n",
       "  </tbody>\n",
       "</table>\n",
       "</div>"
      ],
      "text/plain": [
       "   Wins  Public Favor  Survived  Allegiance Network_Strong\n",
       "0    11      0.841842     False                          1\n",
       "1     7      0.651044      True                          0\n",
       "2     6      0.593816      True                          1\n",
       "3     6      0.540815     False                          1\n",
       "4    12      0.761651     False                          1"
      ]
     },
     "execution_count": 2,
     "metadata": {},
     "output_type": "execute_result"
    }
   ],
   "source": [
    "df = pd.read_csv(\"../data/processed/gladiador_data_procesado.csv\")\n",
    "df.head()"
   ]
  },
  {
   "cell_type": "code",
   "execution_count": 3,
   "id": "2900c3e5",
   "metadata": {},
   "outputs": [
    {
     "data": {
      "text/html": [
       "<div>\n",
       "<style scoped>\n",
       "    .dataframe tbody tr th:only-of-type {\n",
       "        vertical-align: middle;\n",
       "    }\n",
       "\n",
       "    .dataframe tbody tr th {\n",
       "        vertical-align: top;\n",
       "    }\n",
       "\n",
       "    .dataframe thead th {\n",
       "        text-align: right;\n",
       "    }\n",
       "</style>\n",
       "<table border=\"1\" class=\"dataframe\">\n",
       "  <thead>\n",
       "    <tr style=\"text-align: right;\">\n",
       "      <th></th>\n",
       "      <th>Wins</th>\n",
       "      <th>Public Favor</th>\n",
       "      <th>Survived</th>\n",
       "      <th>Allegiance Network_Strong</th>\n",
       "    </tr>\n",
       "  </thead>\n",
       "  <tbody>\n",
       "    <tr>\n",
       "      <th>0</th>\n",
       "      <td>11</td>\n",
       "      <td>0.841842</td>\n",
       "      <td>0</td>\n",
       "      <td>1</td>\n",
       "    </tr>\n",
       "    <tr>\n",
       "      <th>1</th>\n",
       "      <td>7</td>\n",
       "      <td>0.651044</td>\n",
       "      <td>1</td>\n",
       "      <td>0</td>\n",
       "    </tr>\n",
       "    <tr>\n",
       "      <th>2</th>\n",
       "      <td>6</td>\n",
       "      <td>0.593816</td>\n",
       "      <td>1</td>\n",
       "      <td>1</td>\n",
       "    </tr>\n",
       "    <tr>\n",
       "      <th>3</th>\n",
       "      <td>6</td>\n",
       "      <td>0.540815</td>\n",
       "      <td>0</td>\n",
       "      <td>1</td>\n",
       "    </tr>\n",
       "    <tr>\n",
       "      <th>4</th>\n",
       "      <td>12</td>\n",
       "      <td>0.761651</td>\n",
       "      <td>0</td>\n",
       "      <td>1</td>\n",
       "    </tr>\n",
       "  </tbody>\n",
       "</table>\n",
       "</div>"
      ],
      "text/plain": [
       "   Wins  Public Favor  Survived  Allegiance Network_Strong\n",
       "0    11      0.841842         0                          1\n",
       "1     7      0.651044         1                          0\n",
       "2     6      0.593816         1                          1\n",
       "3     6      0.540815         0                          1\n",
       "4    12      0.761651         0                          1"
      ]
     },
     "execution_count": 3,
     "metadata": {},
     "output_type": "execute_result"
    }
   ],
   "source": [
    "df['Survived'] = df['Survived'].astype(int)\n",
    "df.head()"
   ]
  },
  {
   "cell_type": "markdown",
   "id": "c32bb43b",
   "metadata": {},
   "source": [
    "## MODELO RANDOM FOREST CLASSIFIER"
   ]
  },
  {
   "cell_type": "code",
   "execution_count": 6,
   "id": "765719ad",
   "metadata": {},
   "outputs": [
    {
     "name": "stdout",
     "output_type": "stream",
     "text": [
      "(7980, 3)\n",
      "(7980,)\n",
      "(1996, 3)\n",
      "(1996,)\n"
     ]
    }
   ],
   "source": [
    "X = df[[\"Wins\", \"Public Favor\", \"Allegiance Network_Strong\"]]\n",
    "y = df[\"Survived\"]\n",
    "\n",
    "X_train, X_test, y_train, y_test = train_test_split(X, y, test_size=0.2, random_state=42)\n",
    "\n",
    "print(X_train.shape)\n",
    "print(y_train.shape)\n",
    "print(X_test.shape)\n",
    "print(y_test.shape)"
   ]
  },
  {
   "cell_type": "code",
   "execution_count": 7,
   "id": "615db448",
   "metadata": {},
   "outputs": [],
   "source": [
    "cv= KFold(10)\n",
    "rfc = RandomForestClassifier(n_estimators=100, max_depth=5, max_features=3, random_state=42)\n",
    "rfc.fit(X_train, y_train)\n",
    "cv_rfc = cross_val_score(estimator=rfc, cv=cv, X= X, y= y, scoring=\"accuracy\")"
   ]
  },
  {
   "cell_type": "code",
   "execution_count": 8,
   "id": "e809b4dd",
   "metadata": {},
   "outputs": [
    {
     "name": "stdout",
     "output_type": "stream",
     "text": [
      "[0.71943888 0.73947896 0.72144289 0.74849699 0.73547094 0.7254509\n",
      " 0.72016048 0.72316951 0.72116349 0.72517553]\n"
     ]
    }
   ],
   "source": [
    "print(cv_rfc)"
   ]
  },
  {
   "cell_type": "code",
   "execution_count": 9,
   "id": "a30a9424",
   "metadata": {},
   "outputs": [
    {
     "name": "stdout",
     "output_type": "stream",
     "text": [
      "0.748496993987976\n"
     ]
    }
   ],
   "source": [
    "print(cv_rfc.max())"
   ]
  },
  {
   "cell_type": "code",
   "execution_count": 10,
   "id": "cbb6cd87",
   "metadata": {},
   "outputs": [
    {
     "name": "stdout",
     "output_type": "stream",
     "text": [
      "0.7279448566139299\n"
     ]
    }
   ],
   "source": [
    "print(cv_rfc.mean())"
   ]
  },
  {
   "cell_type": "code",
   "execution_count": 11,
   "id": "c0582aee",
   "metadata": {},
   "outputs": [],
   "source": [
    "#Realizo Predicciones\n",
    "\n",
    "# Predicciones sobre el mismo conjunto de datos de entrenamiento\n",
    "pred_rfc = rfc.predict(X_test)"
   ]
  },
  {
   "cell_type": "code",
   "execution_count": 12,
   "id": "305ad8e4",
   "metadata": {},
   "outputs": [],
   "source": [
    "#Obtengo las PROBABILIDADES de predicción\n",
    "pred_proba = rfc.predict_proba(X_test)[:, 1]"
   ]
  },
  {
   "cell_type": "code",
   "execution_count": 13,
   "id": "f2711b2a",
   "metadata": {},
   "outputs": [
    {
     "name": "stdout",
     "output_type": "stream",
     "text": [
      "--- Métricas de Clasificación ---\n",
      "Precisión (Accuracy):  0.7289579158316634\n",
      "Precisión (Clase 1):  0.6889460154241646\n",
      "Sensibilidad (Recall - Clase 1):  0.8187372708757638\n",
      "Puntuación F1 (Clase 1):  0.7482550023266635\n",
      "ROC AUC:  0.7977259306571542\n"
     ]
    }
   ],
   "source": [
    "print(\"--- Métricas de Clasificación ---\")\n",
    "print(\"Precisión (Accuracy): \", accuracy_score(y_test, pred_rfc))\n",
    "print(\"Precisión (Clase 1): \", precision_score(y_test, pred_rfc))\n",
    "print(\"Sensibilidad (Recall - Clase 1): \", recall_score(y_test, pred_rfc))\n",
    "print(\"Puntuación F1 (Clase 1): \", f1_score(y_test, pred_rfc))\n",
    "# Si pred_dtc son probabilidades, podrías calcular el ROC AUC:\n",
    "print(\"ROC AUC: \", roc_auc_score(y_test, pred_proba))"
   ]
  },
  {
   "cell_type": "code",
   "execution_count": 14,
   "id": "081ffc01",
   "metadata": {},
   "outputs": [
    {
     "name": "stdout",
     "output_type": "stream",
     "text": [
      "\n",
      "Predicción para un nuevo personaje (Wins: 8, Public Favor: 0.7, Allegiance Network_Strong: 1): 1\n",
      "El modelo predice que este personaje Sobreviviría.\n"
     ]
    }
   ],
   "source": [
    "# También puedes predecir para un nuevo dato, por ejemplo:\n",
    "# Un personaje con 8 victorias, 0.7 de favor público y una red de lealtad fuerte (1)\n",
    "new_data = pd.DataFrame([[8, 0.7, 1]], columns=[\"Wins\", \"Public Favor\", \"Allegiance Network_Strong\"])\n",
    "new_prediction = rfc.predict(new_data)\n",
    "\n",
    "print(f\"\\nPredicción para un nuevo personaje (Wins: 8, Public Favor: 0.7, Allegiance Network_Strong: 1): {new_prediction[0]}\")\n",
    "\n",
    "if new_prediction[0] == 1:\n",
    "    print(\"El modelo predice que este personaje Sobreviviría.\")\n",
    "else:\n",
    "    print(\"El modelo predice que este personaje No Sobreviviría.\")"
   ]
  },
  {
   "cell_type": "code",
   "execution_count": 15,
   "id": "6b366f3c",
   "metadata": {},
   "outputs": [],
   "source": [
    "#Creo un DataFrame completo de entrenamiento combinando X_train y y_train\n",
    "train_df = pd.concat([X_train, y_train], axis=1)\n",
    "\n",
    "#Creo un DataFrame completo de prueba combinando X_test y y_test\n",
    "test_df = pd.concat([X_test, y_test], axis=1)\n",
    "\n",
    "# Guardar los DataFrames en archivos CSV\n",
    "train_df.to_csv(\"../data/train/train_data.csv\", index=False)\n",
    "test_df.to_csv(\"../data/test/test_data.csv\", index=False)"
   ]
  },
  {
   "cell_type": "code",
   "execution_count": 16,
   "id": "fcef36a2",
   "metadata": {},
   "outputs": [],
   "source": [
    "with open(\"../models/rfc_model.pkl\", \"wb\") as f:\n",
    "    pickle.dump(rfc, f)"
   ]
  }
 ],
 "metadata": {
  "kernelspec": {
   "display_name": "Python 3",
   "language": "python",
   "name": "python3"
  },
  "language_info": {
   "codemirror_mode": {
    "name": "ipython",
    "version": 3
   },
   "file_extension": ".py",
   "mimetype": "text/x-python",
   "name": "python",
   "nbconvert_exporter": "python",
   "pygments_lexer": "ipython3",
   "version": "3.11.9"
  }
 },
 "nbformat": 4,
 "nbformat_minor": 5
}
