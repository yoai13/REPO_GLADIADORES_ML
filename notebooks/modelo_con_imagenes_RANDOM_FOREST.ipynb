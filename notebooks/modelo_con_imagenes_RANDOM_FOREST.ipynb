{
 "cells": [
  {
   "cell_type": "code",
   "execution_count": 2,
   "id": "150eacda",
   "metadata": {},
   "outputs": [],
   "source": [
    "import os\n",
    "import numpy as np\n",
    "import pandas as pd\n",
    "import matplotlib.pyplot as plt\n",
    "from skimage.io import imread # Para cargar imágenes\n",
    "from skimage.transform import resize # Para redimensionar\n",
    "from skimage.feature import hog # Para extraer características HOG\n",
    "from sklearn.model_selection import train_test_split # Para dividir datos\n",
    "from sklearn.svm import SVC # Máquina de Vectores de Soporte (SVM) como ejemplo de clasificador\n",
    "from sklearn.ensemble import RandomForestClassifier # Opcional: Random Forest\n",
    "from sklearn.metrics import classification_report, confusion_matrix, accuracy_score\n",
    "from sklearn.preprocessing import StandardScaler # Para escalado de características\n",
    "import joblib\n",
    "import seaborn as sns\n",
    "from tqdm import tqdm # Para barras de progreso"
   ]
  },
  {
   "cell_type": "code",
   "execution_count": 3,
   "id": "5508dd91",
   "metadata": {},
   "outputs": [
    {
     "name": "stdout",
     "output_type": "stream",
     "text": [
      "Directorio actual del Notebook: c:\\Users\\yoai\\Documents\\REPO_GLADIADORES_ML\\REPO_GLADIADORES_ML\\notebooks\n",
      "Ruta raíz del proyecto: c:\\Users\\yoai\\Documents\\REPO_GLADIADORES_ML\\REPO_GLADIADORES_ML\n",
      "Directorio base de imágenes: c:\\Users\\yoai\\Documents\\REPO_GLADIADORES_ML\\REPO_GLADIADORES_ML\\data\\imagenes_gladiadores\n",
      "Directorio de entrenamiento: c:\\Users\\yoai\\Documents\\REPO_GLADIADORES_ML\\REPO_GLADIADORES_ML\\data\\imagenes_gladiadores\\train\n",
      "Directorio de prueba: c:\\Users\\yoai\\Documents\\REPO_GLADIADORES_ML\\REPO_GLADIADORES_ML\\data\\imagenes_gladiadores\\test\n"
     ]
    }
   ],
   "source": [
    "#Configuración de Rutas\n",
    "# El directorio de mi trabajo actual (donde se está ejecutando mi notebook) es 'REPO_GLADIADORES_ML/notebooks'\n",
    "CURRENT_NOTEBOOK_DIR = os.getcwd()\n",
    "\n",
    "#Para llegar a 'REPO_GLADIADORES_ML', necesito subir un nivel desde 'notebooks'\n",
    "PROJECT_ROOT = os.path.dirname(CURRENT_NOTEBOOK_DIR)\n",
    "\n",
    "#La carpeta 'data' está directamente bajo 'REPO_GLADIADORES_ML'\n",
    "BASE_IMAGES_PATH = os.path.join(PROJECT_ROOT, \"data\", \"imagenes_gladiadores\")\n",
    "\n",
    "#Rutas a los directorios de entrenamiento y prueba\n",
    "TRAIN_DIR = os.path.join(BASE_IMAGES_PATH, \"train\")\n",
    "TEST_DIR = os.path.join(BASE_IMAGES_PATH, \"test\")\n",
    "\n",
    "print(f\"Directorio actual del Notebook: {CURRENT_NOTEBOOK_DIR}\")\n",
    "print(f\"Ruta raíz del proyecto: {PROJECT_ROOT}\")\n",
    "print(f\"Directorio base de imágenes: {BASE_IMAGES_PATH}\")\n",
    "print(f\"Directorio de entrenamiento: {TRAIN_DIR}\")\n",
    "print(f\"Directorio de prueba: {TEST_DIR}\")\n",
    "\n",
    "\n",
    "#Parámetros para las Imágenes y Extracción de Características \n",
    "IMG_HEIGHT = 128 # Altura a la que redimensionaremos las imágenes\n",
    "IMG_WIDTH = 128  # Ancho a la que redimensionaremos las imágenes\n",
    "\n",
    "#Parámetros HOG (Histograma de Gradientes Orientados)\n",
    "PIXELS_PER_CELL = (8, 8) # Tamaño de la celda en píxeles (ej. 8x8)\n",
    "CELLS_PER_BLOCK = (2, 2) # Número de celdas por bloque (ej. 2x2)\n",
    "ORIENTATIONS = 9         # Número de bins de orientación (ej. 9)\n",
    "\n",
    "#Mapeo de nombres de carpetas a etiquetas numéricas (clases)\n",
    "CLASS_LABELS = {'gladiadores': 0, 'no_gladiadores': 1}\n",
    "# El orden aquí es importante: 'gladiadores' -> 0, 'no_gladiadores' -> 1"
   ]
  },
  {
   "cell_type": "code",
   "execution_count": 4,
   "id": "b5257d89",
   "metadata": {},
   "outputs": [],
   "source": [
    "def extract_features_from_directory(directory_path, label_id, target_size=(IMG_HEIGHT, IMG_WIDTH)):\n",
    "    \"\"\"\n",
    "    Carga imágenes de un directorio, las redimensiona, las convierte a escala de grises\n",
    "    y extrae características HOG.\n",
    "\n",
    "    Args:\n",
    "        directory_path (str): La ruta al directorio que contiene las imágenes de una clase.\n",
    "        label_id (int): La etiqueta numérica asociada a las imágenes de este directorio.\n",
    "        target_size (tuple): La tupla (altura, ancho) a la que redimensionar las imágenes.\n",
    "\n",
    "    Returns:\n",
    "        tuple: Una tupla que contiene (np.array de características HOG, np.array de etiquetas, lista de rutas de imagen).\n",
    "    \"\"\"\n",
    "    features_list = []\n",
    "    labels_list = []\n",
    "    image_paths = [] # Opcional: para depuración o referencia\n",
    "\n",
    "    #Obtengo el nombre de la clase para los mensajes de progreso\n",
    "    class_name = [name for name, id in CLASS_LABELS.items() if id == label_id][0]\n",
    "    print(f\"\\nExtrayendo características para la clase '{class_name}' de: {directory_path}\")\n",
    "\n",
    "    #Listo todos los archivos en el directorio\n",
    "    for img_name in tqdm(os.listdir(directory_path), desc=f\"Procesando {class_name}\"):\n",
    "        img_path = os.path.join(directory_path, img_name)\n",
    "\n",
    "        #Saltar si no es un archivo de imagen \n",
    "        if not os.path.isfile(img_path) or img_name.startswith('.'):\n",
    "            continue\n",
    "        if not (img_name.lower().endswith(('.png', '.jpg', '.jpeg', '.gif', '.bmp'))):\n",
    "            continue\n",
    "\n",
    "        try:\n",
    "            #Cargar imagen\n",
    "            img = imread(img_path)\n",
    "\n",
    "            #Redimensionar la imagen (necesario para HOG si no tienen el mismo tamaño)\n",
    "            img_resized = resize(img, target_size, anti_aliasing=True)\n",
    "\n",
    "            #Convertir a escala de grises si la imagen es a color\n",
    "            #HOG generalmente funciona mejor en escala de grises\n",
    "            if img_resized.ndim == 3: # Si es a color (tiene 3 dimensiones: H, W, Canales)\n",
    "                img_resized = np.mean(img_resized, axis=2) # Simple promedio de canales para escala de grises\n",
    "\n",
    "            #Extraer características HOG\n",
    "            hog_features = hog(img_resized,\n",
    "                               orientations=ORIENTATIONS,\n",
    "                               pixels_per_cell=PIXELS_PER_CELL,\n",
    "                               cells_per_block=CELLS_PER_BLOCK,\n",
    "                               block_norm='L2-Hys', # Normalización del bloque (L2-Hys es común)\n",
    "                               feature_vector=True) # Devuelve un vector plano de características\n",
    "\n",
    "            features_list.append(hog_features)\n",
    "            labels_list.append(label_id)\n",
    "            image_paths.append(img_path)\n",
    "\n",
    "        except Exception as e:\n",
    "            print(f\"Error procesando {img_path}: {e}\")\n",
    "            continue # Continúa con la siguiente imagen si hay un error\n",
    "\n",
    "    return np.array(features_list), np.array(labels_list), image_paths"
   ]
  },
  {
   "cell_type": "code",
   "execution_count": 5,
   "id": "189ebe48",
   "metadata": {},
   "outputs": [
    {
     "name": "stdout",
     "output_type": "stream",
     "text": [
      "--- Procesando datos de entrenamiento ---\n",
      "\n",
      "Extrayendo características para la clase 'gladiadores' de: c:\\Users\\yoai\\Documents\\REPO_GLADIADORES_ML\\REPO_GLADIADORES_ML\\data\\imagenes_gladiadores\\train\\gladiadores\n"
     ]
    },
    {
     "name": "stderr",
     "output_type": "stream",
     "text": [
      "Procesando gladiadores: 100%|██████████| 864/864 [00:28<00:00, 30.28it/s]\n"
     ]
    },
    {
     "name": "stdout",
     "output_type": "stream",
     "text": [
      "\n",
      "Extrayendo características para la clase 'no_gladiadores' de: c:\\Users\\yoai\\Documents\\REPO_GLADIADORES_ML\\REPO_GLADIADORES_ML\\data\\imagenes_gladiadores\\train\\no_gladiadores\n"
     ]
    },
    {
     "name": "stderr",
     "output_type": "stream",
     "text": [
      "Procesando no_gladiadores: 100%|██████████| 868/868 [00:27<00:00, 31.77it/s]\n"
     ]
    },
    {
     "name": "stdout",
     "output_type": "stream",
     "text": [
      "\n",
      "Características de entrenamiento (X_train) shape: (1730, 8100)\n",
      "Etiquetas de entrenamiento (y_train) shape: (1730,)\n",
      "\n",
      "--- Procesando datos de prueba ---\n",
      "\n",
      "Extrayendo características para la clase 'gladiadores' de: c:\\Users\\yoai\\Documents\\REPO_GLADIADORES_ML\\REPO_GLADIADORES_ML\\data\\imagenes_gladiadores\\test\\gladiadores\n"
     ]
    },
    {
     "name": "stderr",
     "output_type": "stream",
     "text": [
      "Procesando gladiadores: 100%|██████████| 156/156 [00:06<00:00, 24.38it/s]\n"
     ]
    },
    {
     "name": "stdout",
     "output_type": "stream",
     "text": [
      "\n",
      "Extrayendo características para la clase 'no_gladiadores' de: c:\\Users\\yoai\\Documents\\REPO_GLADIADORES_ML\\REPO_GLADIADORES_ML\\data\\imagenes_gladiadores\\test\\no_gladiadores\n"
     ]
    },
    {
     "name": "stderr",
     "output_type": "stream",
     "text": [
      "Procesando no_gladiadores: 100%|██████████| 156/156 [00:04<00:00, 34.02it/s]"
     ]
    },
    {
     "name": "stdout",
     "output_type": "stream",
     "text": [
      "\n",
      "Características de prueba (X_test) shape: (312, 8100)\n",
      "Etiquetas de prueba (y_test) shape: (312,)\n"
     ]
    },
    {
     "name": "stderr",
     "output_type": "stream",
     "text": [
      "\n"
     ]
    }
   ],
   "source": [
    "#Carga y Extracción de Características para el Conjunto de Entrenamiento \n",
    "print(\"--- Procesando datos de entrenamiento ---\")\n",
    "#Para la clase 'gladiadores' en entrenamiento\n",
    "gladiadores_train_features, gladiadores_train_labels, _ = \\\n",
    "    extract_features_from_directory(os.path.join(TRAIN_DIR, 'gladiadores'), CLASS_LABELS['gladiadores'])\n",
    "\n",
    "#Para la clase 'no_gladiadores' en entrenamiento\n",
    "no_gladiadores_train_features, no_gladiadores_train_labels, _ = \\\n",
    "    extract_features_from_directory(os.path.join(TRAIN_DIR, 'no_gladiadores'), CLASS_LABELS['no_gladiadores'])\n",
    "\n",
    "#Combinar todas las características y etiquetas de entrenamiento\n",
    "X_train = np.vstack((gladiadores_train_features, no_gladiadores_train_features))\n",
    "y_train = np.concatenate((gladiadores_train_labels, no_gladiadores_train_labels))\n",
    "\n",
    "print(f\"\\nCaracterísticas de entrenamiento (X_train) shape: {X_train.shape}\")\n",
    "print(f\"Etiquetas de entrenamiento (y_train) shape: {y_train.shape}\")\n",
    "\n",
    "\n",
    "#Carga y Extracción de Características para el Conjunto de Prueba\n",
    "print(\"\\n--- Procesando datos de prueba ---\")\n",
    "#Para la clase 'gladiadores' en prueba\n",
    "gladiadores_test_features, gladiadores_test_labels, _ = \\\n",
    "    extract_features_from_directory(os.path.join(TEST_DIR, 'gladiadores'), CLASS_LABELS['gladiadores'])\n",
    "\n",
    "#Para la clase 'no_gladiadores' en prueba\n",
    "no_gladiadores_test_features, no_gladiadores_test_labels, _ = \\\n",
    "    extract_features_from_directory(os.path.join(TEST_DIR, 'no_gladiadores'), CLASS_LABELS['no_gladiadores'])\n",
    "\n",
    "#Combinar todas las características y etiquetas de prueba\n",
    "X_test = np.vstack((gladiadores_test_features, no_gladiadores_test_features))\n",
    "y_test = np.concatenate((gladiadores_test_labels, no_gladiadores_test_labels))\n",
    "\n",
    "print(f\"\\nCaracterísticas de prueba (X_test) shape: {X_test.shape}\")\n",
    "print(f\"Etiquetas de prueba (y_test) shape: {y_test.shape}\")"
   ]
  },
  {
   "cell_type": "code",
   "execution_count": 6,
   "id": "5e025fef",
   "metadata": {},
   "outputs": [
    {
     "name": "stdout",
     "output_type": "stream",
     "text": [
      "Scaler guardado en: c:\\Users\\yoai\\Documents\\REPO_GLADIADORES_ML\\REPO_GLADIADORES_ML\\models\\scaler_gladiador_ml.joblib\n"
     ]
    }
   ],
   "source": [
    "#Escalar las características\n",
    "# StandardScaler hace que la media sea 0 y la desviación estándar 1\n",
    "scaler = StandardScaler()\n",
    "X_train_scaled = scaler.fit_transform(X_train) # Ajusta el scaler y transforma los datos de entrenamiento\n",
    "X_test_scaled = scaler.transform(X_test)       # Solo transforma los datos de prueba usando el scaler ajustado con entrenamiento\n",
    "\n",
    "#Guardo el scaler también, ya que lo necesitarás para transformar nuevas imágenes antes de predecir\n",
    "# Lo guardamos en la carpeta 'models' al mismo nivel que 'data'\n",
    "scaler_save_path = os.path.join(PROJECT_ROOT, \"models\", \"scaler_gladiador_ml.joblib\")\n",
    "joblib.dump(scaler, scaler_save_path)\n",
    "print(f\"Scaler guardado en: {scaler_save_path}\")"
   ]
  },
  {
   "cell_type": "code",
   "execution_count": 7,
   "id": "4bc5eb9d",
   "metadata": {},
   "outputs": [
    {
     "name": "stdout",
     "output_type": "stream",
     "text": [
      "\n",
      "Entrenando el modelo de clasificación (RandomForestClassifier)...\n",
      "Entrenamiento completado.\n"
     ]
    }
   ],
   "source": [
    "# Inicializar y entrenar el clasificador RandomForestClassifier\n",
    "# n_estimators: Número de árboles en el bosque (más suele ser mejor, pero más lento)\n",
    "# random_state: Para resultados reproducibles\n",
    "# class_weight: Puede ser útil si las clases están desbalanceadas (aunque en tu caso, están balanceadas)\n",
    "print(\"\\nEntrenando el modelo de clasificación (RandomForestClassifier)...\")\n",
    "model_ml = RandomForestClassifier(n_estimators=100, random_state=42, class_weight='balanced')\n",
    "# 'balanced' ajusta automáticamente los pesos de las clases inversamente proporcionales a las frecuencias de las clases\n",
    "# Esto puede ser útil incluso con clases balanceadas para dar un ligero énfasis.\n",
    "model_ml.fit(X_train_scaled, y_train) # Entrenar con los datos ESCALADOS\n",
    "print(\"Entrenamiento completado.\")"
   ]
  },
  {
   "cell_type": "code",
   "execution_count": 8,
   "id": "f36097a2",
   "metadata": {},
   "outputs": [
    {
     "name": "stdout",
     "output_type": "stream",
     "text": [
      "\n",
      "Precisión total en el conjunto de prueba: 54.17%\n",
      "\n",
      "--- Matriz de Confusión ---\n"
     ]
    },
    {
     "data": {
      "image/png": "[encoded data removed]",
      "text/plain": [
       "<Figure size 700x600 with 2 Axes>"
      ]
     },
     "metadata": {},
     "output_type": "display_data"
    }
   ],
   "source": [
    "#Hago predicciones en el conjunto de prueba\n",
    "y_pred = model_ml.predict(X_test_scaled)\n",
    "\n",
    "#Obtengo los nombres de las clases en el orden correcto (0 -> 'gladiadores', 1 -> 'no_gladiadores')\n",
    "target_names = [name for name, _id in sorted(CLASS_LABELS.items(), key=lambda item: item[1])]\n",
    "\n",
    "#Precisión general\n",
    "accuracy = accuracy_score(y_test, y_pred)\n",
    "print(f\"\\nPrecisión total en el conjunto de prueba: {accuracy*100:.2f}%\")\n",
    "\n",
    "#Matriz de Confusión\n",
    "#Visualiza cuántas predicciones fueron correctas e incorrectas por clase\n",
    "print(\"\\n--- Matriz de Confusión ---\")\n",
    "cm = confusion_matrix(y_test, y_pred)\n",
    "plt.figure(figsize=(7, 6))\n",
    "sns.heatmap(cm, annot=True, fmt='d', cmap='Blues',\n",
    "            xticklabels=target_names, yticklabels=target_names)\n",
    "plt.xlabel('Predicción')\n",
    "plt.ylabel('Etiqueta Verdadera')\n",
    "plt.title('Matriz de Confusión')\n",
    "plt.show()"
   ]
  },
  {
   "cell_type": "code",
   "execution_count": null,
   "id": "3632c4ee",
   "metadata": {},
   "outputs": [],
   "source": [
    "def predict_new_image(model, scaler_loaded, img_path, target_size=(IMG_HEIGHT, IMG_WIDTH), class_labels=CLASS_LABELS):\n",
    "    \"\"\"\n",
    "    Carga una nueva imagen, extrae características, las escala y hace una predicción.\n",
    "\n",
    "    Args:\n",
    "        model: El modelo de ML entrenado.\n",
    "        scaler_loaded: El scaler ajustado (StandardScaler) usado durante el entrenamiento.\n",
    "        img_path (str): Ruta a la nueva imagen.\n",
    "        target_size (tuple): Tamaño al que redimensionar la imagen.\n",
    "        class_labels (dict): Diccionario de mapeo de nombres de clase a IDs.\n",
    "\n",
    "    Returns:\n",
    "        str: El nombre de la clase predicha.\n",
    "    \"\"\"\n",
    "    print(f\"\\nProcesando imagen para predicción: {img_path}\")\n",
    "    try:\n",
    "        img = imread(img_path)\n",
    "        img_resized = resize(img, target_size, anti_aliasing=True)\n",
    "\n",
    "        if img_resized.ndim == 3:\n",
    "            img_resized = np.mean(img_resized, axis=2) # Convertir a escala de grises\n",
    "\n",
    "        # Extraer características HOG de la nueva imagen\n",
    "        hog_features = hog(img_resized,\n",
    "                           orientations=ORIENTATIONS,\n",
    "                           pixels_per_cell=PIXELS_PER_CELL,\n",
    "                           cells_per_block=CELLS_PER_BLOCK,\n",
    "                           block_norm='L2-Hys',\n",
    "                           feature_vector=True)\n",
    "\n",
    "        # Reformar las características para que sean compatibles con el modelo (1 muestra, N características)\n",
    "        hog_features = hog_features.reshape(1, -1)\n",
    "\n",
    "        # Escalar las características usando el mismo scaler que se usó en el entrenamiento\n",
    "        hog_features_scaled = scaler_loaded.transform(hog_features)\n",
    "\n",
    "        # Predecir la clase\n",
    "        prediction_id = model.predict(hog_features_scaled)[0]\n",
    "\n",
    "        # Obtener el nombre de la clase predicha\n",
    "        predicted_class_name = [name for name, label_id in class_labels.items() if label_id == prediction_id][0]\n",
    "\n",
    "        # Obtener probabilidades (si el modelo fue entrenado con probability=True)\n",
    "        probabilities = model.predict_proba(hog_features_scaled)[0]\n",
    "        # Mapear probabilidades a los nombres de clase (usando el orden de target_names)\n",
    "        target_names_ordered = [name for name, _id in sorted(class_labels.items(), key=lambda item: item[1])]\n",
    "        prob_dict = {target_names_ordered[i]: prob for i, prob in enumerate(probabilities)}\n",
    "\n",
    "\n",
    "        print(f\"La imagen '{os.path.basename(img_path)}' se clasifica como: {predicted_class_name}\")\n",
    "        print(f\"Probabilidades por clase: {prob_dict}\")\n",
    "\n",
    "\n",
    "        plt.imshow(img)\n",
    "        plt.title(f\"Clasificado como: {predicted_class_name}\\nProbabilidad {prob_dict[predicted_class_name]*100:.2f}%\")\n",
    "        plt.axis('off')\n",
    "        plt.show()\n",
    "\n",
    "        return predicted_class_name\n",
    "\n",
    "    except Exception as e:\n",
    "        print(f\"Error al procesar la imagen para predicción {img_path}: {e}\")\n",
    "        return None\n",
    "\n",
    "# --- Ejemplo de uso de la función de predicción ---\n",
    "# Asegúrate de tener una imagen de prueba en alguna ruta para este ejemplo.\n",
    "# Puedes tomar una de tu carpeta 'test' o una nueva imagen.\n",
    "# Por ejemplo, si tienes una imagen en 'REPO_GLADIADORES_ML/data/imagenes_gladiadores/test/gladiadores/gladiator_001.jpg'\n",
    "# test_image_path_example = os.path.join(TEST_DIR, 'gladiadores', 'gladiator_001.jpg')\n",
    "\n",
    "# Para usar esto, cargarías tu modelo y scaler primero si no estás ejecutando el script completo:\n",
    "# loaded_ml_model = joblib.load(os.path.join(PROJECT_ROOT, \"models\", \"gladiator_classifier_ml_model.joblib\"))\n",
    "# loaded_scaler = joblib.load(os.path.join(PROJECT_ROOT, \"models\", \"scaler_gladiador_ml.joblib\"))\n",
    "# predict_new_image(loaded_ml_model, loaded_scaler, test_image_path_example, class_labels=CLASS_LABELS) # Descomentar para probar"
   ]
  },
  {
   "cell_type": "code",
   "execution_count": null,
   "id": "aaa2c104",
   "metadata": {},
   "outputs": [],
   "source": [
    "# Guardar el modelo entrenado\n",
    "# Lo guardamos en la carpeta 'models' al mismo nivel que 'data'\n",
    "model_save_path = os.path.join(PROJECT_ROOT, \"models\", \"gladiator_classifier_ml_model.joblib\")\n",
    "joblib.dump(model_ml, model_save_path)\n",
    "print(f\"\\nModelo de ML guardado en: {model_save_path}\")\n",
    "\n",
    "# --- Cargar el modelo (para usarlo en el futuro sin reentrenar) ---\n",
    "# Por ejemplo, en un nuevo script o en tu aplicación Streamlit:\n",
    "# loaded_ml_model = joblib.load(os.path.join(PROJECT_ROOT, \"models\", \"gladiador_classifier_ml_model.joblib\"))\n",
    "# loaded_scaler = joblib.load(os.path.join(PROJECT_ROOT, \"models\", \"scaler_gladiador_ml.joblib\")) # ¡Recuerda cargar también el scaler!\n",
    "# print(\"Modelo de ML y scaler cargados exitosamente.\")"
   ]
  }
 ],
 "metadata": {
  "kernelspec": {
   "display_name": "Python 3",
   "language": "python",
   "name": "python3"
  },
  "language_info": {
   "codemirror_mode": {
    "name": "ipython",
    "version": 3
   },
   "file_extension": ".py",
   "mimetype": "text/x-python",
   "name": "python",
   "nbconvert_exporter": "python",
   "pygments_lexer": "ipython3",
   "version": "3.11.9"
  }
 },
 "nbformat": 4,
 "nbformat_minor": 5
}
